{
 "cells": [
  {
   "cell_type": "markdown",
   "metadata": {},
   "source": [
    "## Graphviz in Python\n",
    "\n",
    "Graphviz is a powerful tool for creating visual representations of graphs and networks. In Python, the `graphviz` library provides a simple interface to create and render these visualizations. It allows you to define nodes and edges, customize their appearance, and export the final graph in various formats such as PDF, PNG, and SVG.\n",
    "\n"
   ]
  },
  {
   "cell_type": "markdown",
   "metadata": {},
   "source": [
    " \n",
    "## iGraph in Python\n",
    "\n",
    "iGraph is a comprehensive library for creating and manipulating graphs and networks. It is designed to be highly efficient and scalable, making it suitable for large-scale network analysis. The `igraph` library provides a wide range of functionalities, including:\n",
    "\n",
    "- Creating various types of graphs (e.g., directed, undirected, weighted)\n",
    "- Adding and removing nodes and edges\n",
    "- Calculating graph metrics (e.g., degree, betweenness, closeness)\n",
    "- Detecting communities and clusters\n",
    "- Visualizing graphs with customizable layouts and styles\n",
    "\n",
    "You can find more examples and tutorials on the [iGraph Website](https://python.igraph.org/en/stable/tutorials/index.html) [and rgraph here](https://r-graph-gallery.com/package/igraph.html).\n"
   ]
  },
  {
   "cell_type": "markdown",
   "metadata": {},
   "source": [
    "\n",
    "## vizNetwork in R\n",
    "\n",
    "`vizNetwork` is an R package that allows you to create interactive network visualizations. It leverages the `vis.js` library to provide a wide range of customization options and interactive features. With `vizNetwork`, you can:\n",
    "\n",
    "- Create various types of network graphs\n",
    "- Customize node and edge properties\n",
    "- Add interactive features like zoom, pan, and tooltips\n",
    "- Export the network visualization to HTML for easy sharing\n",
    "\n",
    "You can find more examples and tutorials on the [vizNetwork Website](https://datastorm-open.github.io/visNetwork/).\n"
   ]
  },
  {
   "cell_type": "markdown",
   "metadata": {},
   "source": [
    "#### Helpful Websites\n",
    "[Kateto Network Visualization](https://kateto.net/network-visualization)"
   ]
  }
 ],
 "metadata": {
  "kernelspec": {
   "display_name": "base",
   "language": "python",
   "name": "python3"
  },
  "language_info": {
   "name": "python",
   "version": "3.11.7"
  }
 },
 "nbformat": 4,
 "nbformat_minor": 2
}
