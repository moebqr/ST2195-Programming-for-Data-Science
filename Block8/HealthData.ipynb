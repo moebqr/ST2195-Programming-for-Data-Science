{
 "cells": [
  {
   "cell_type": "markdown",
   "metadata": {},
   "source": [
    "Have a look at regexr.com to see how the regex works.\n",
    "You can directly copy the regex from the website and paste it into the code."
   ]
  },
  {
   "cell_type": "code",
   "execution_count": 10,
   "metadata": {},
   "outputs": [],
   "source": [
    "import re\n",
    "import csv\n",
    "import pandas as pd"
   ]
  },
  {
   "cell_type": "code",
   "execution_count": null,
   "metadata": {},
   "outputs": [],
   "source": [
    "### Case No.*:\\s(\\d+).*\\nAge:\\s(\\d+).*\\nNationality:\\s(\\w+).*\\nSex:\\s(\\w).*\\nTravel History:([\\s+\\w]+).*\\nContact Tracing:([\\s+\\w]+)\n",
    "\n",
    "case_no = r'Case No.*:\\s(\\d+).*'\n",
    "age = r'Age.*:\\s(\\d+).*'\n",
    "nationality = r'Nationality.*:\\s(\\w+).*'\n",
    "sex = r'Sex.*:\\s(\\w).*'\n",
    "travel_history = r'Travel History.*:([\\s+\\w]+).*'\n",
    "contact_tracing = r'Contact Tracing.*:([\\s+\\w]+)'\n",
    "\n",
    "def html_to_csv(html_file, csv_file):\n",
    "    with open(html_file, 'r', encoding='utf-8') as file:\n",
    "        html_content = file.read()\n",
    "\n",
    "    # Regular expression to find the required data\n",
    "    pattern = re.compile(r'Case No.*:\\s(\\d+).*\\nAge:\\s(\\d+).*\\nNationality:\\s(\\w+).*\\nSex:\\s(\\w).*\\nTravel History:([\\s+\\w]+).*\\nContact Tracing:([\\s+\\w]+)', re.DOTALL)\n",
    "    matches = pattern.findall(html_content)\n",
    "\n",
    "    # Write to CSV\n",
    "    with open(csv_file, 'w', newline='', encoding='utf-8') as csvfile:\n",
    "        csvwriter = csv.writer(csvfile)\n",
    "        csvwriter.writerow(['Case No', 'Age', 'Nationality', 'Sex', 'Travel History', 'Contact Tracing'])\n",
    "\n",
    "        for match in matches:\n",
    "            csvwriter.writerow(match)\n",
    "\n",
    "# Example usage\n",
    "html_to_csv('ContactTracing.htm', 'ContactTracing.csv')\n"
   ]
  },
  {
   "cell_type": "code",
   "execution_count": 11,
   "metadata": {},
   "outputs": [
    {
     "name": "stdout",
     "output_type": "stream",
     "text": [
      "Empty DataFrame\n",
      "Columns: [Case No, Age, Nationality, Sex, Travel History, Contact Tracing]\n",
      "Index: []\n"
     ]
    }
   ],
   "source": [
    "def html_to_dataframe(html_file):\n",
    "    with open(html_file, 'r', encoding='utf-8') as file:\n",
    "        html_content = file.read()\n",
    "\n",
    "    # Regular expression to find the required data\n",
    "    pattern = re.compile(r'Case No\\.:&nbsp;(\\d+).*?Age: (\\d+)<br>Nationality:&nbsp;(.*?)<br>Sex:&nbsp;(.*?)<br>Travel History:&nbsp;(.*?)<br>Contact Tracing:&nbsp;(.*?)</p>', re.DOTALL)\n",
    "    matches = pattern.findall(html_content)\n",
    "\n",
    "    # Create a DataFrame\n",
    "    df = pd.DataFrame(matches, columns=['Case No', 'Age', 'Nationality', 'Sex', 'Travel History', 'Contact Tracing'])\n",
    "    return df\n",
    "\n",
    "# Example usage\n",
    "df = html_to_dataframe('ContactTracing.htm')\n",
    "print(df)\n"
   ]
  }
 ],
 "metadata": {
  "kernelspec": {
   "display_name": "base",
   "language": "python",
   "name": "python3"
  },
  "language_info": {
   "codemirror_mode": {
    "name": "ipython",
    "version": 3
   },
   "file_extension": ".py",
   "mimetype": "text/x-python",
   "name": "python",
   "nbconvert_exporter": "python",
   "pygments_lexer": "ipython3",
   "version": "3.11.7"
  }
 },
 "nbformat": 4,
 "nbformat_minor": 2
}
