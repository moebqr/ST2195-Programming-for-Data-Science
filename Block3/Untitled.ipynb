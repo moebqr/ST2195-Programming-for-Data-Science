{
 "cells": [
  {
   "cell_type": "code",
   "execution_count": 2,
   "id": "d302435d",
   "metadata": {},
   "outputs": [
    {
     "name": "stdout",
     "output_type": "stream",
     "text": [
      "Untitled.ipynb course.csv     grade.csv      student.csv\r\n"
     ]
    }
   ],
   "source": [
    "!ls"
   ]
  },
  {
   "cell_type": "code",
   "execution_count": 27,
   "id": "d74978d1",
   "metadata": {},
   "outputs": [],
   "source": [
    "import os"
   ]
  },
  {
   "cell_type": "code",
   "execution_count": 28,
   "id": "41c1e48d",
   "metadata": {},
   "outputs": [],
   "source": [
    "import sqlite3"
   ]
  },
  {
   "cell_type": "markdown",
   "id": "71e59e9f",
   "metadata": {},
   "source": [
    "### Establish DB Connection"
   ]
  },
  {
   "cell_type": "code",
   "execution_count": 29,
   "id": "2d76f85c",
   "metadata": {},
   "outputs": [],
   "source": [
    "conn = sqlite3.connect('University.db')"
   ]
  },
  {
   "cell_type": "code",
   "execution_count": 30,
   "id": "0cad9f87",
   "metadata": {
    "scrolled": true
   },
   "outputs": [
    {
     "data": {
      "text/plain": [
       "<sqlite3.Connection at 0x7f9452d18a80>"
      ]
     },
     "execution_count": 30,
     "metadata": {},
     "output_type": "execute_result"
    }
   ],
   "source": [
    "conn"
   ]
  },
  {
   "cell_type": "markdown",
   "id": "e4af8b73",
   "metadata": {},
   "source": [
    "### Create Tables with Pandas"
   ]
  },
  {
   "cell_type": "code",
   "execution_count": 31,
   "id": "f13065b7",
   "metadata": {},
   "outputs": [],
   "source": [
    "import pandas as pd"
   ]
  },
  {
   "cell_type": "code",
   "execution_count": 32,
   "id": "b278784e",
   "metadata": {},
   "outputs": [],
   "source": [
    "student = pd.read_csv(\"student.csv\")\n",
    "course = pd.read_csv(\"course.csv\")\n",
    "grade = pd.read_csv(\"grade.csv\")"
   ]
  },
  {
   "cell_type": "code",
   "execution_count": 33,
   "id": "66af12e9",
   "metadata": {},
   "outputs": [
    {
     "data": {
      "text/html": [
       "<div>\n",
       "<style scoped>\n",
       "    .dataframe tbody tr th:only-of-type {\n",
       "        vertical-align: middle;\n",
       "    }\n",
       "\n",
       "    .dataframe tbody tr th {\n",
       "        vertical-align: top;\n",
       "    }\n",
       "\n",
       "    .dataframe thead th {\n",
       "        text-align: right;\n",
       "    }\n",
       "</style>\n",
       "<table border=\"1\" class=\"dataframe\">\n",
       "  <thead>\n",
       "    <tr style=\"text-align: right;\">\n",
       "      <th></th>\n",
       "      <th>course_id</th>\n",
       "      <th>name</th>\n",
       "      <th>capacity</th>\n",
       "    </tr>\n",
       "  </thead>\n",
       "  <tbody>\n",
       "    <tr>\n",
       "      <th>0</th>\n",
       "      <td>ST101</td>\n",
       "      <td>programming for data science</td>\n",
       "      <td>60</td>\n",
       "    </tr>\n",
       "    <tr>\n",
       "      <th>1</th>\n",
       "      <td>ST115</td>\n",
       "      <td>Managing and Visualising Data</td>\n",
       "      <td>60</td>\n",
       "    </tr>\n",
       "    <tr>\n",
       "      <th>2</th>\n",
       "      <td>ST207</td>\n",
       "      <td>Databases</td>\n",
       "      <td>30</td>\n",
       "    </tr>\n",
       "    <tr>\n",
       "      <th>3</th>\n",
       "      <td>ST310</td>\n",
       "      <td>Machine Learning</td>\n",
       "      <td>100</td>\n",
       "    </tr>\n",
       "  </tbody>\n",
       "</table>\n",
       "</div>"
      ],
      "text/plain": [
       "  course_id                           name  capacity\n",
       "0     ST101   programming for data science        60\n",
       "1     ST115  Managing and Visualising Data        60\n",
       "2     ST207                      Databases        30\n",
       "3     ST310               Machine Learning       100"
      ]
     },
     "execution_count": 33,
     "metadata": {},
     "output_type": "execute_result"
    }
   ],
   "source": [
    "course.head()"
   ]
  },
  {
   "cell_type": "code",
   "execution_count": 44,
   "id": "a6471e39",
   "metadata": {},
   "outputs": [
    {
     "data": {
      "text/plain": [
       "8"
      ]
     },
     "execution_count": 44,
     "metadata": {},
     "output_type": "execute_result"
    }
   ],
   "source": [
    "student.to_sql(\"Student\", con = conn, index = False, if_exists=\"replace\")\n",
    "course.to_sql(\"Course\", con = conn, index = False, if_exists=\"replace\")\n",
    "grade.to_sql(\"Grade\", con = conn, index = False, if_exists=\"replace\")"
   ]
  },
  {
   "cell_type": "code",
   "execution_count": 45,
   "id": "a8bdd376",
   "metadata": {},
   "outputs": [],
   "source": [
    "c = conn.cursor()"
   ]
  },
  {
   "cell_type": "code",
   "execution_count": 47,
   "id": "b0582b64",
   "metadata": {},
   "outputs": [
    {
     "data": {
      "text/plain": [
       "<sqlite3.Cursor at 0x7f947148c9d0>"
      ]
     },
     "execution_count": 47,
     "metadata": {},
     "output_type": "execute_result"
    }
   ],
   "source": [
    "c.execute('''\n",
    "SELECT name\n",
    "FROM sqlite_master\n",
    "WHERE type='table'\n",
    "''')"
   ]
  },
  {
   "cell_type": "code",
   "execution_count": 48,
   "id": "b18cdbc6",
   "metadata": {},
   "outputs": [
    {
     "data": {
      "text/plain": [
       "[('Student',), ('Course',), ('Grade',)]"
      ]
     },
     "execution_count": 48,
     "metadata": {},
     "output_type": "execute_result"
    }
   ],
   "source": [
    "c.fetchall()"
   ]
  },
  {
   "cell_type": "code",
   "execution_count": 51,
   "id": "8b06e59a",
   "metadata": {},
   "outputs": [],
   "source": [
    "q = c.execute(\"SELECT * FROM Student\").fetchall()"
   ]
  },
  {
   "cell_type": "code",
   "execution_count": 52,
   "id": "1ee4da57",
   "metadata": {},
   "outputs": [
    {
     "data": {
      "text/plain": [
       "[(201921323, 'Ava Smith', 2),\n",
       " (201832220, 'Ben Johnson', 3),\n",
       " (202003219, 'Charlie Jones', 1),\n",
       " (202045234, ' Dan Norris', 1),\n",
       " (201985603, 'Emily Wood', 1),\n",
       " (201933222, 'Freddie Harris', 2),\n",
       " (201875940, 'Grace Clarke', 2)]"
      ]
     },
     "execution_count": 52,
     "metadata": {},
     "output_type": "execute_result"
    }
   ],
   "source": [
    "q"
   ]
  },
  {
   "cell_type": "code",
   "execution_count": 53,
   "id": "ce37628e",
   "metadata": {},
   "outputs": [
    {
     "data": {
      "text/plain": [
       "<sqlite3.Cursor at 0x7f947148c9d0>"
      ]
     },
     "execution_count": 53,
     "metadata": {},
     "output_type": "execute_result"
    }
   ],
   "source": [
    "c.execute('''\n",
    "CREATE TABLE Teacher (staff_id TEXT PRIMARY KEY, name TEXT)\n",
    "''')"
   ]
  },
  {
   "cell_type": "code",
   "execution_count": 55,
   "id": "bc7ef4cd",
   "metadata": {},
   "outputs": [
    {
     "data": {
      "text/plain": [
       "[('Student',), ('Course',), ('Grade',), ('Teacher',)]"
      ]
     },
     "execution_count": 55,
     "metadata": {},
     "output_type": "execute_result"
    }
   ],
   "source": [
    "c.execute('''\n",
    "SELECT name\n",
    "from sqlite_master\n",
    "WHERE type=\"table\"\n",
    "''').fetchall()"
   ]
  },
  {
   "cell_type": "code",
   "execution_count": 56,
   "id": "992d65ca",
   "metadata": {},
   "outputs": [
    {
     "data": {
      "text/plain": [
       "<sqlite3.Cursor at 0x7f947148c9d0>"
      ]
     },
     "execution_count": 56,
     "metadata": {},
     "output_type": "execute_result"
    }
   ],
   "source": [
    "c.execute(\"DROP TABLE Teacher\")"
   ]
  },
  {
   "cell_type": "code",
   "execution_count": 57,
   "id": "a51a0495",
   "metadata": {},
   "outputs": [
    {
     "data": {
      "text/plain": [
       "[('Student',), ('Course',), ('Grade',)]"
      ]
     },
     "execution_count": 57,
     "metadata": {},
     "output_type": "execute_result"
    }
   ],
   "source": [
    "c.execute('''\n",
    "SELECT name\n",
    "from sqlite_master\n",
    "WHERE type=\"table\"\n",
    "''').fetchall()"
   ]
  },
  {
   "cell_type": "code",
   "execution_count": 58,
   "id": "41ed854e",
   "metadata": {},
   "outputs": [],
   "source": [
    "conn.commit()"
   ]
  },
  {
   "cell_type": "code",
   "execution_count": 61,
   "id": "05f514a0",
   "metadata": {},
   "outputs": [],
   "source": [
    "q1 = c.execute('''\n",
    "SELECT Student.name\n",
    "FROM Grade, Student\n",
    "WHERE Grade.course_id=\"ST101\" AND Student.student_id = Grade.student_id\n",
    "ORDER BY Student.name\n",
    "''').fetchall()"
   ]
  },
  {
   "cell_type": "code",
   "execution_count": 62,
   "id": "d19cc2f5",
   "metadata": {},
   "outputs": [
    {
     "data": {
      "text/plain": [
       "[('Ava Smith',), ('Charlie Jones',), ('Emily Wood',)]"
      ]
     },
     "execution_count": 62,
     "metadata": {},
     "output_type": "execute_result"
    }
   ],
   "source": [
    "q1"
   ]
  }
 ],
 "metadata": {
  "kernelspec": {
   "display_name": "Python 3 (ipykernel)",
   "language": "python",
   "name": "python3"
  },
  "language_info": {
   "codemirror_mode": {
    "name": "ipython",
    "version": 3
   },
   "file_extension": ".py",
   "mimetype": "text/x-python",
   "name": "python",
   "nbconvert_exporter": "python",
   "pygments_lexer": "ipython3",
   "version": "3.9.13"
  }
 },
 "nbformat": 4,
 "nbformat_minor": 5
}
