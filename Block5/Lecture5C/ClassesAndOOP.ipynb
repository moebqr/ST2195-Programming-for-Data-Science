{
 "cells": [
  {
   "cell_type": "code",
   "execution_count": 3,
   "metadata": {},
   "outputs": [
    {
     "data": {
      "text/plain": [
       "2.8284271247461903"
      ]
     },
     "execution_count": 3,
     "metadata": {},
     "output_type": "execute_result"
    }
   ],
   "source": [
    "def point_dist(point1, point2):\n",
    "    '''\n",
    "    return the distance between two points\n",
    "    '''\n",
    "    assert len(point1) == len(point2), \"Points must have the same number of dimensions\"\n",
    "    try:\n",
    "        return sum((p1 - p2) ** 2 for p1, p2 in zip(point1, point2)) ** 0.5\n",
    "    except Exception as e:\n",
    "        print(f\"An error occurred: {e}\")\n",
    "        return None\n",
    "\n",
    "point1 = [1, 2]\n",
    "point2 = [3, 4]\n",
    "point_dist(point1, point2)  # Alternatively: point_dist((1, 2), (3, 4))"
   ]
  },
  {
   "cell_type": "markdown",
   "metadata": {},
   "source": [
    "# Cursor (AI) generated code for Basics of Classes and OOP in Python"
   ]
  },
  {
   "cell_type": "code",
   "execution_count": 4,
   "metadata": {},
   "outputs": [
    {
     "name": "stdout",
     "output_type": "stream",
     "text": [
      "Point coordinates: Point(3, 4)\n",
      "Distance from origin: 5.0\n",
      "\n",
      "Colored point: ColorPoint(1, 2, red)\n",
      "Account balance: 1000\n"
     ]
    }
   ],
   "source": [
    "# 1. Class Definition\n",
    "class Point:\n",
    "    \"\"\"A class to represent a point in 2D\"\"\"\n",
    "    \n",
    "    # Constructor (initializer)\n",
    "    def __init__(self, x=0, y=0):\n",
    "        self.x = x  # Instance variables/attributes\n",
    "        self.y = y\n",
    "    \n",
    "    # Instance method\n",
    "    def distance_from_origin(self):\n",
    "        return (self.x ** 2 + self.y ** 2) ** 0.5\n",
    "    \n",
    "    # String representation\n",
    "    def __str__(self):\n",
    "        return f\"Point({self.x}, {self.y})\"\n",
    "\n",
    "# Creating objects (instances)\n",
    "p1 = Point(3, 4)\n",
    "print(f\"Point coordinates: {p1}\")\n",
    "print(f\"Distance from origin: {p1.distance_from_origin()}\")\n",
    "\n",
    "# 2. Key OOP Concepts:\n",
    "\n",
    "# Inheritance - Creating a derived class\n",
    "class ColorPoint(Point):\n",
    "    def __init__(self, x=0, y=0, color=\"black\"):\n",
    "        super().__init__(x, y)  # Call parent class constructor\n",
    "        self.color = color\n",
    "    \n",
    "    def __str__(self):\n",
    "        return f\"ColorPoint({self.x}, {self.y}, {self.color})\"\n",
    "\n",
    "# Encapsulation - Using private attributes (name mangling)\n",
    "class BankAccount:\n",
    "    def __init__(self, balance):\n",
    "        self.__balance = balance  # Private attribute\n",
    "    \n",
    "    def get_balance(self):\n",
    "        return self.__balance\n",
    "\n",
    "# Polymorphism - Same method name, different behaviors\n",
    "class Circle:\n",
    "    def area(self):\n",
    "        return 3.14 * self.radius ** 2\n",
    "\n",
    "class Rectangle:\n",
    "    def area(self):\n",
    "        return self.width * self.height\n",
    "\n",
    "# Example usage\n",
    "cp = ColorPoint(1, 2, \"red\")\n",
    "print(f\"\\nColored point: {cp}\")\n",
    "\n",
    "account = BankAccount(1000)\n",
    "print(f\"Account balance: {account.get_balance()}\")\n"
   ]
  },
  {
   "cell_type": "code",
   "execution_count": 5,
   "metadata": {},
   "outputs": [
    {
     "name": "stdout",
     "output_type": "stream",
     "text": [
      "My house has 3 bedrooms\n",
      "Vacation house has 4 bedrooms\n"
     ]
    }
   ],
   "source": [
    "# Classes as Blueprints - A Perfect Analogy!\n",
    "\n",
    "# Think of a class as a blueprint for building houses:\n",
    "# - The blueprint (class) defines what features every house will have\n",
    "# - Each actual house (object) is built following that blueprint\n",
    "# - The blueprint specifies rooms, doors, etc. (attributes)\n",
    "# - It also defines what you can do in the house (methods)\n",
    "\n",
    "class House:\n",
    "    def __init__(self, bedrooms, color):\n",
    "        self.bedrooms = bedrooms  # Every house will have these attributes\n",
    "        self.color = color\n",
    "        self.is_door_open = False\n",
    "    \n",
    "    def open_door(self):         # Every house can perform these actions\n",
    "        self.is_door_open = True\n",
    "\n",
    "# Creating actual houses from our blueprint:\n",
    "my_house = House(3, \"blue\")      # First house built from blueprint\n",
    "vacation_house = House(4, \"red\")  # Second house built from blueprint\n",
    "\n",
    "# Each house is unique but follows the same blueprint structure!\n",
    "print(f\"My house has {my_house.bedrooms} bedrooms\")\n",
    "print(f\"Vacation house has {vacation_house.bedrooms} bedrooms\")\n"
   ]
  },
  {
   "cell_type": "markdown",
   "metadata": {},
   "source": [
    "# Inheritance\n",
    "If you want to get a better intuition to Object Oriented Programming, Inheritence, and more, feel free to reach out to me (Mohamed Alderazi) and I will sit down with you and explain it on a board. OOP is all about having a good understanding of the overarching concepts."
   ]
  },
  {
   "cell_type": "code",
   "execution_count": 1,
   "metadata": {},
   "outputs": [
    {
     "name": "stdout",
     "output_type": "stream",
     "text": [
      "2020 Toyota Camry\n",
      "This car has 100 miles on it\n",
      "2023 Tesla Model 3 - 75kWh Battery\n",
      "This car has 200 miles on it\n",
      "Car is fully charged!\n"
     ]
    }
   ],
   "source": [
    "# Inheritance allows us to create a new class that is a modified version of an existing class\n",
    "# The new class inherits attributes and methods from the existing class\n",
    "\n",
    "# Parent (base) class\n",
    "class Car:\n",
    "    def __init__(self, make, model, year):\n",
    "        self.make = make\n",
    "        self.model = model\n",
    "        self.year = year\n",
    "        self.odometer = 0\n",
    "    \n",
    "    def get_description(self):\n",
    "        return f\"{self.year} {self.make} {self.model}\"\n",
    "    \n",
    "    def read_odometer(self):\n",
    "        return f\"This car has {self.odometer} miles on it\"\n",
    "    \n",
    "    def drive(self, miles):\n",
    "        self.odometer += miles\n",
    "\n",
    "# Child class inheriting from Car\n",
    "class ElectricCar(Car):  # ElectricCar inherits from Car\n",
    "    def __init__(self, make, model, year, battery_capacity):\n",
    "        # Call parent class's __init__ method\n",
    "        super().__init__(make, model, year)\n",
    "        # Add attributes specific to electric cars\n",
    "        self.battery_capacity = battery_capacity\n",
    "        self.charge_level = 100  # percent\n",
    "    \n",
    "    def charge(self):\n",
    "        self.charge_level = 100\n",
    "        return \"Car is fully charged!\"\n",
    "    \n",
    "    # Override parent method to add electric-specific info\n",
    "    def get_description(self):\n",
    "        return f\"{super().get_description()} - {self.battery_capacity}kWh Battery\"\n",
    "\n",
    "# Create instances and demonstrate inheritance\n",
    "regular_car = Car(\"Toyota\", \"Camry\", 2020)\n",
    "print(regular_car.get_description())  # Uses Car's method\n",
    "regular_car.drive(100)\n",
    "print(regular_car.read_odometer())\n",
    "\n",
    "tesla = ElectricCar(\"Tesla\", \"Model 3\", 2023, 75)\n",
    "print(tesla.get_description())  # Uses ElectricCar's overridden method\n",
    "tesla.drive(200)  # Uses inherited method from Car\n",
    "print(tesla.read_odometer())\n",
    "print(tesla.charge())  # Uses ElectricCar's specific method\n"
   ]
  }
 ],
 "metadata": {
  "kernelspec": {
   "display_name": "Python 3",
   "language": "python",
   "name": "python3"
  },
  "language_info": {
   "codemirror_mode": {
    "name": "ipython",
    "version": 3
   },
   "file_extension": ".py",
   "mimetype": "text/x-python",
   "name": "python",
   "nbconvert_exporter": "python",
   "pygments_lexer": "ipython3",
   "version": "3.9.6"
  }
 },
 "nbformat": 4,
 "nbformat_minor": 2
}
