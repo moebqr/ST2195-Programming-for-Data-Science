{
 "cells": [
  {
   "cell_type": "code",
   "execution_count": 7,
   "metadata": {},
   "outputs": [],
   "source": [
    "class BankAccount:\n",
    "    \"\"\"\n",
    "    BankAccount represents the bank account, with methods to deposit and withdraw money from it.\n",
    "    \"\"\"\n",
    "    def __init__(self, balance = 0):\n",
    "        assert balance >= 0, \"Balance cannot be negative\"\n",
    "        self.balance = balance\n",
    "    \n",
    "    def deposit(self, amount):\n",
    "        \"\"\"\n",
    "        Deposit money into the bank account.\n",
    "        Deposit must be nonnegative.\n",
    "        No return value.\n",
    "        \"\"\"\n",
    "        if amount < 0:\n",
    "            raise ValueError(\"Deposit amount must be non-negative\")\n",
    "        else:\n",
    "            self.balance += amount\n",
    "            return amount\n",
    "    \n",
    "    def withdraw(self, amount):\n",
    "        \"\"\"\n",
    "        Withdraw money from the bank account.\n",
    "        \"\"\"\n",
    "        if amount < 0:\n",
    "            raise ValueError(\"Withdrawal amount must be non-negative\")\n",
    "        elif self.balance >= amount:\n",
    "            self.balance -= amount\n",
    "            return amount\n",
    "        else:\n",
    "            print(\"Withdraw fail: Withdraw amount is more than balance.\")\n",
    "            return 0\n"
   ]
  },
  {
   "cell_type": "code",
   "execution_count": 8,
   "metadata": {},
   "outputs": [
    {
     "name": "stdout",
     "output_type": "stream",
     "text": [
      "1100\n",
      "1600\n"
     ]
    }
   ],
   "source": [
    "account = BankAccount(1000)\n",
    "account.deposit(100)\n",
    "print(account.balance)\n",
    "\n",
    "account.deposit(500)\n",
    "print(account.balance)\n",
    "\n",
    "# Returns Error\n",
    "# account.deposit(-100)\n",
    "# print(account.balance)"
   ]
  }
 ],
 "metadata": {
  "kernelspec": {
   "display_name": "Python 3",
   "language": "python",
   "name": "python3"
  },
  "language_info": {
   "codemirror_mode": {
    "name": "ipython",
    "version": 3
   },
   "file_extension": ".py",
   "mimetype": "text/x-python",
   "name": "python",
   "nbconvert_exporter": "python",
   "pygments_lexer": "ipython3",
   "version": "3.9.6"
  }
 },
 "nbformat": 4,
 "nbformat_minor": 2
}
