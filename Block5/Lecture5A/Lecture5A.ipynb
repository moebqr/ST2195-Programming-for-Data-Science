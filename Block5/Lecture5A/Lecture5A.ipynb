{
 "cells": [
  {
   "cell_type": "markdown",
   "metadata": {},
   "source": [
    "## Aliasing in Python"
   ]
  },
  {
   "cell_type": "code",
   "execution_count": 4,
   "metadata": {},
   "outputs": [
    {
     "name": "stdout",
     "output_type": "stream",
     "text": [
      "['yellow', 'blue', 'green']\n",
      "['yellow', 'blue', 'green']\n"
     ]
    },
    {
     "data": {
      "text/plain": [
       "4421765696"
      ]
     },
     "execution_count": 4,
     "metadata": {},
     "output_type": "execute_result"
    }
   ],
   "source": [
    "colors = [\"red\", \"blue\", \"green\"]\n",
    "colors_2 = colors\n",
    "\n",
    "colors_2[0]= \"yellow\"\n",
    "\n",
    "print(colors_2)     # ['yellow', 'blue', 'green']\n",
    "\n",
    "print(colors)       # ['yellow', 'blue', 'green'] \n",
    "\n",
    "id(colors_2)        # Shows the memory address of the object\n"
   ]
  },
  {
   "cell_type": "markdown",
   "metadata": {},
   "source": [
    "#### (Shallow) Copy of a List"
   ]
  },
  {
   "cell_type": "code",
   "execution_count": 5,
   "metadata": {},
   "outputs": [
    {
     "name": "stdout",
     "output_type": "stream",
     "text": [
      "['purple', 'blue', 'green']\n",
      "['yellow', 'blue', 'green']\n"
     ]
    }
   ],
   "source": [
    "colors_3 = colors.copy()\n",
    "\n",
    "colors_3[0] = \"purple\"\n",
    "\n",
    "print(colors_3)     # ['purple', 'blue', 'green']\n",
    "print(colors)       # ['yellow', 'blue', 'green']"
   ]
  },
  {
   "cell_type": "markdown",
   "metadata": {},
   "source": [
    "#### Immutable Objects"
   ]
  },
  {
   "cell_type": "code",
   "execution_count": 6,
   "metadata": {},
   "outputs": [
    {
     "name": "stdout",
     "output_type": "stream",
     "text": [
      "3.14159\n"
     ]
    }
   ],
   "source": [
    "pi = 3.14159\n",
    "\n",
    "id(pi)\n",
    "\n",
    "a = pi\n",
    "\n",
    "pi = \"Don't Cram\"\n",
    "\n",
    "print(a)        # This is true for immutable objects like int and float"
   ]
  },
  {
   "cell_type": "markdown",
   "metadata": {},
   "source": [
    "# Control Flow Structures in Python"
   ]
  },
  {
   "cell_type": "code",
   "execution_count": 7,
   "metadata": {},
   "outputs": [
    {
     "name": "stdout",
     "output_type": "stream",
     "text": [
      "Distinction\n"
     ]
    }
   ],
   "source": [
    "# If-Else Statements\n",
    "score = 85\n",
    "\n",
    "if score >= 70:\n",
    "    print(\"Distinction\")\n",
    "elif score >= 60:\n",
    "    print(\"Merit\")\n",
    "elif score >= 50:\n",
    "    print(\"Pass\")\n",
    "else:\n",
    "    print(\"Fail\")"
   ]
  },
  {
   "cell_type": "code",
   "execution_count": 9,
   "metadata": {},
   "outputs": [
    {
     "name": "stdout",
     "output_type": "stream",
     "text": [
      "0\n",
      "1\n",
      "2\n",
      "3\n",
      "4\n",
      "5\n",
      "6\n",
      "7\n",
      "8\n",
      "9\n",
      "1\n",
      "3\n",
      "5\n",
      "7\n",
      "9\n",
      "10\n",
      "9\n",
      "8\n",
      "7\n",
      "6\n",
      "5\n",
      "4\n",
      "3\n",
      "2\n",
      "1\n",
      "2\n",
      "3\n",
      "4\n"
     ]
    }
   ],
   "source": [
    "# For Loops\n",
    "for i in range(10):\n",
    "    print(i)\n",
    "\n",
    "for i in range(1, 10, 2):\n",
    "    print(i)\n",
    "\n",
    "for i in range(10, 0, -1):\n",
    "    print(i)\n",
    "    \n",
    "for i in range(5):\n",
    "    if i < 2:\n",
    "        continue\n",
    "    print(i)\n",
    "    \n",
    "    if i >= 4:\n",
    "        break\n"
   ]
  },
  {
   "cell_type": "code",
   "execution_count": 10,
   "metadata": {},
   "outputs": [
    {
     "name": "stdout",
     "output_type": "stream",
     "text": [
      "0\n",
      "1\n",
      "2\n",
      "3\n",
      "4\n"
     ]
    }
   ],
   "source": [
    "# While Loops\n",
    "i = 0\n",
    "\n",
    "while i < 5:\n",
    "    print(i)\n",
    "    i += 1"
   ]
  },
  {
   "cell_type": "code",
   "execution_count": 12,
   "metadata": {},
   "outputs": [
    {
     "name": "stdout",
     "output_type": "stream",
     "text": [
      "Try again\n",
      "Try again\n",
      "You entered a 4-letter word\n"
     ]
    }
   ],
   "source": [
    "word = input(\"Enter a 4-letter word: \")\n",
    "\n",
    "while len(word) != 4:\n",
    "    print(\"Try again\")\n",
    "    word = input(\"Enter a 4-letter word: \")\n",
    "\n",
    "print(\"You entered a 4-letter word\")"
   ]
  },
  {
   "cell_type": "markdown",
   "metadata": {},
   "source": [
    "## Functions in Python\n",
    "Must use return in a Python Function"
   ]
  },
  {
   "cell_type": "code",
   "execution_count": 15,
   "metadata": {},
   "outputs": [
    {
     "data": {
      "text/plain": [
       "28.27431"
      ]
     },
     "execution_count": 15,
     "metadata": {},
     "output_type": "execute_result"
    }
   ],
   "source": [
    "def circle_area(radius):\n",
    "    \"\"\"\n",
    "    Calculate the area of a circle given its radius.\n",
    "    \n",
    "    Args:\n",
    "        radius (float): The radius of the circle\n",
    "        \n",
    "    Returns:\n",
    "        float: The area of the circle\n",
    "    \"\"\"\n",
    "    pi = 3.14159\n",
    "    area = pi * radius ** 2\n",
    "    return area\n",
    "\n",
    "circle_area(3)"
   ]
  },
  {
   "cell_type": "markdown",
   "metadata": {},
   "source": [
    "# Scope\n",
    "##### LEGB Rule:\n",
    "###### **Local** - Variables defined within a function\n",
    "###### **Enclosing** - Variables in outer function when nested \n",
    "###### **Global** - Variables defined at module/file level \n",
    "###### **Built-in** - Python's built-in functions/keywords \n"
   ]
  },
  {
   "cell_type": "code",
   "execution_count": 16,
   "metadata": {},
   "outputs": [],
   "source": []
  },
  {
   "cell_type": "markdown",
   "metadata": {},
   "source": [
    "Before moving forward, please refer to the ExceptionHandling.py file for more information on Exception Handling in Python."
   ]
  },
  {
   "cell_type": "markdown",
   "metadata": {},
   "source": [
    "## Debugging in Python"
   ]
  },
  {
   "cell_type": "code",
   "execution_count": 19,
   "metadata": {},
   "outputs": [
    {
     "data": {
      "text/plain": [
       "[1, 2, 3]"
      ]
     },
     "execution_count": 19,
     "metadata": {},
     "output_type": "execute_result"
    }
   ],
   "source": [
    "# We use PytonTutor in order to debug the code below\n",
    "\n",
    "def get_sorted_numbers(nums):\n",
    "    '''\n",
    "    input: list of numbers\n",
    "    output: sorted list of numbers\n",
    "    '''\n",
    "    nums = sorted(nums) # Error was because we did not assign the sorted list to nums (it was just sorted(nums) and not nums = sorted(nums))\n",
    "    return nums\n",
    "\n",
    "get_sorted_numbers([3, 1, 2])"
   ]
  },
  {
   "cell_type": "code",
   "execution_count": 22,
   "metadata": {},
   "outputs": [
    {
     "name": "stdout",
     "output_type": "stream",
     "text": [
      "[1, 2, 3]\n"
     ]
    }
   ],
   "source": [
    "# Better way of writing the function\n",
    "def get_sorted_numbers(nums):\n",
    "    '''\n",
    "    input: list of numbers\n",
    "    output: sorted list of numbers\n",
    "    '''\n",
    "    return sorted(nums)\n",
    "\n",
    "\n",
    "nums = [3, 1, 2]\n",
    "sorted_nums = get_sorted_numbers(nums)\n",
    "print(sorted_nums)"
   ]
  },
  {
   "cell_type": "markdown",
   "metadata": {},
   "source": [
    "The rest of the Debugging is done in Spyder IDE"
   ]
  }
 ],
 "metadata": {
  "kernelspec": {
   "display_name": "Python 3",
   "language": "python",
   "name": "python3"
  },
  "language_info": {
   "codemirror_mode": {
    "name": "ipython",
    "version": 3
   },
   "file_extension": ".py",
   "mimetype": "text/x-python",
   "name": "python",
   "nbconvert_exporter": "python",
   "pygments_lexer": "ipython3",
   "version": "3.9.6"
  }
 },
 "nbformat": 4,
 "nbformat_minor": 2
}
