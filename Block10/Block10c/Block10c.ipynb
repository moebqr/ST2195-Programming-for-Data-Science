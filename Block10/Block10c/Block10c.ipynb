{
 "cells": [
  {
   "cell_type": "markdown",
   "id": "eae7aa3d-f852-403c-9b0b-34dd635dbf7e",
   "metadata": {},
   "source": [
    "# Modules and Packages in Python"
   ]
  },
  {
   "cell_type": "markdown",
   "id": "b0e86da7-02c3-4d28-b850-06a5f150883e",
   "metadata": {},
   "source": [
    "## Modularization"
   ]
  },
  {
   "cell_type": "markdown",
   "id": "bd2ad35e-9e65-4aa8-83f3-550efcd99425",
   "metadata": {},
   "source": [
    "**Modular programming** is a design technique to separate the functionality of a program into\n",
    "some smaller independent parts for some specific tasks. As each module is for some specific\n",
    "tasks, it is much easier to navigate and locate the code. \n",
    "Different developers can also work on\n",
    "different parts of the program independently. \n",
    "\n",
    "We have already seen one tool to promote code\n",
    "modularization: **functions**. \n",
    "With the use of functions, we can break down a complex problem into some smaller sub-problems. \n",
    "The use of functions also facilitates *code reusing*. \n",
    "In this notebook, we introduce two other tools for code modularization: *modules* and *packages*."
   ]
  },
  {
   "cell_type": "markdown",
   "id": "5cd68043-d7fa-48a2-a7e7-81d5b2f6e477",
   "metadata": {},
   "source": [
    "## 1. Modules"
   ]
  },
  {
   "cell_type": "markdown",
   "id": "282ff27c-8c82-49dc-88ea-1e573b4c1841",
   "metadata": {},
   "source": [
    "In Python, a module is a file with the suffix .py that contains Python code. The name of the\n",
    "module is the same of the name of file. \n",
    "For example, the module `circle` is created by writing\n",
    "relevant code in the `circle.py` file.\n",
    "\n",
    "The content of the `circle.py` file is as follows (it is available with the Block 10 files):"
   ]
  },
  {
   "cell_type": "code",
   "execution_count": 1,
   "id": "3c7238dd-be46-4a9e-999f-0fd180664385",
   "metadata": {},
   "outputs": [],
   "source": [
    "'''\n",
    "This module contains functions for circle calculation\n",
    "'''\n",
    "\n",
    "pi = 3.14159\n",
    "def area(radius):\n",
    "    '''\n",
    "    return area of a circle given the radius. Radius is assumed to be a non-negative number\n",
    "    '''\n",
    "    return pi *(radius**2)\n",
    "\n",
    "def circumference(radius):\n",
    "    '''\n",
    "    return circumference of a circle given the radius. Radius is assumed to be a non-negative number\n",
    "    '''\n",
    "    return 2 * pi * radius"
   ]
  },
  {
   "cell_type": "markdown",
   "id": "4bfcddb1-d653-41d6-ad63-13f5f7f49d79",
   "metadata": {},
   "source": [
    "Using modules is very similar to using packages, as we have done so far. \n",
    "We first import the module by `import module`. \n",
    "For example, to import the module `circle` we write:"
   ]
  },
  {
   "cell_type": "code",
   "execution_count": 1,
   "id": "065240c9-f28e-4765-ab9f-5433188f9d6b",
   "metadata": {},
   "outputs": [],
   "source": [
    "import circle"
   ]
  },
  {
   "cell_type": "markdown",
   "id": "96e1e2cd-fe8a-407a-80a3-994e9290b07b",
   "metadata": {},
   "source": [
    "Use the function `help()` to display the documentation for the module."
   ]
  },
  {
   "cell_type": "code",
   "execution_count": 2,
   "id": "24b592f9-f4fb-4635-8a47-3ce79ba76855",
   "metadata": {},
   "outputs": [
    {
     "name": "stdout",
     "output_type": "stream",
     "text": [
      "Help on module circle:\n",
      "\n",
      "NAME\n",
      "    circle - This module contains functions for circle calculation\n",
      "\n",
      "FUNCTIONS\n",
      "    area(radius)\n",
      "        return area of a circle given the radius. Radius is assumed to be a non-negative number\n",
      "    \n",
      "    circumference(radius)\n",
      "        return circumference of a circle given the radius. Radius is assumed to be a non-negative number\n",
      "\n",
      "DATA\n",
      "    pi = 3.14159\n",
      "\n",
      "FILE\n",
      "    /Users/moebqr/Documents/GitHub/ST2195-Programming-for-Data-Science/Block10/Block10c/circle.py\n",
      "\n",
      "\n"
     ]
    }
   ],
   "source": [
    "help(circle)"
   ]
  },
  {
   "cell_type": "markdown",
   "id": "46358063-a12c-40dd-9d82-00e523739cea",
   "metadata": {},
   "source": [
    "The **docstring** of this module tells us that the module aims to do circle-related calculation.\n",
    "The `help()` function also tells us that the module has two functions for calculating the area and circumference of a circle given the radius, and an object `pi`.\n",
    "\n",
    "While the `help()` function tells us *how to use* the module and its functions, it does not tell us how the module and its\n",
    "functions are *implemented*. \n",
    "This is *abstraction* - we hide the unnecessary details from the\n",
    "user."
   ]
  },
  {
   "cell_type": "markdown",
   "id": "5b2b49ee-888a-4264-b391-0f173dc287c6",
   "metadata": {},
   "source": [
    "To get the *attributes* (which includes functions and other objects) in the module, we use\n",
    "`module.attribute`. \n",
    "For functions, we call `module.func()`. \n",
    "For example, if we want to use\n",
    "the function `area()` from the module `circle`, we call the function as follows:"
   ]
  },
  {
   "cell_type": "code",
   "execution_count": 3,
   "id": "8fe248cd-73a0-4589-8568-e1d546884bc4",
   "metadata": {},
   "outputs": [
    {
     "data": {
      "text/plain": [
       "28.27431"
      ]
     },
     "execution_count": 3,
     "metadata": {},
     "output_type": "execute_result"
    }
   ],
   "source": [
    "# You can try automcomplete here\n",
    "circle.area(3)"
   ]
  },
  {
   "cell_type": "code",
   "execution_count": 4,
   "id": "b7a05bd5",
   "metadata": {},
   "outputs": [
    {
     "data": {
      "text/plain": [
       "62.8318"
      ]
     },
     "execution_count": 4,
     "metadata": {},
     "output_type": "execute_result"
    }
   ],
   "source": [
    "circle.circumference(10)"
   ]
  },
  {
   "cell_type": "markdown",
   "id": "696cfa40-b53c-4639-a84e-039554ac5da3",
   "metadata": {},
   "source": [
    "Similarly, if you want to get the retrieve the objects from the module, you need to write `module.obj`. \n",
    "For example, if we want to retrieve `pi` from the module `circle`, we need to write:"
   ]
  },
  {
   "cell_type": "code",
   "execution_count": 5,
   "id": "0a3d5113-4a98-4968-8a9c-6942478b6a50",
   "metadata": {},
   "outputs": [
    {
     "data": {
      "text/plain": [
       "3.14159"
      ]
     },
     "execution_count": 5,
     "metadata": {},
     "output_type": "execute_result"
    }
   ],
   "source": [
    "circle.pi"
   ]
  },
  {
   "cell_type": "markdown",
   "id": "6ce01efc-b1eb-455e-90fa-4d94d457a024",
   "metadata": {},
   "source": [
    "We will get an error if we call the functions or use other objects directly, as functions and\n",
    "other objects *within* the module **scope**."
   ]
  },
  {
   "cell_type": "code",
   "execution_count": 6,
   "id": "ffbe4bbe-f3c5-4c6c-86dd-5917895ce8fc",
   "metadata": {},
   "outputs": [
    {
     "ename": "NameError",
     "evalue": "name 'pi' is not defined",
     "output_type": "error",
     "traceback": [
      "\u001b[0;31m---------------------------------------------------------------------------\u001b[0m",
      "\u001b[0;31mNameError\u001b[0m                                 Traceback (most recent call last)",
      "Cell \u001b[0;32mIn[6], line 2\u001b[0m\n\u001b[1;32m      1\u001b[0m \u001b[38;5;66;03m# This works because we imported all of circle.py above\u001b[39;00m\n\u001b[0;32m----> 2\u001b[0m \u001b[43mpi\u001b[49m\n",
      "\u001b[0;31mNameError\u001b[0m: name 'pi' is not defined"
     ]
    }
   ],
   "source": [
    "# This works because we imported all of circle.py above\n",
    "pi"
   ]
  },
  {
   "cell_type": "markdown",
   "id": "d86603f8-0566-4866-ba8b-487c1580c3f3",
   "metadata": {},
   "source": [
    "If you need to use the functions a lot, calling the functions in the module by `module.func()`\n",
    "may not convenient. \n",
    "Instead you can import the function or other objects from the module by `from module import function`. \n",
    "This enables you to use the them directly, even if you do not import all of the module."
   ]
  },
  {
   "cell_type": "code",
   "execution_count": 7,
   "id": "2e51815f-4574-4c86-8fd7-e3c9f06b5435",
   "metadata": {},
   "outputs": [
    {
     "name": "stdout",
     "output_type": "stream",
     "text": [
      "28.27431\n",
      "3.14159\n"
     ]
    }
   ],
   "source": [
    "from circle import area, pi\n",
    "print(area(3))\n",
    "\n",
    "print(pi)\n"
   ]
  },
  {
   "cell_type": "markdown",
   "id": "06254481-3a6c-4bf8-b27c-feb1121bc9bd",
   "metadata": {},
   "source": [
    "## 2. Packages"
   ]
  },
  {
   "cell_type": "markdown",
   "id": "3a3f7158-dcfa-4120-b03a-92a6a15cbc15",
   "metadata": {},
   "source": [
    "Packages are a collection of modules. \n",
    "We have been using packages like **NumPy** and **pandas**\n",
    "in this course. \n",
    "In each package, there is at least one `__init__.py` file. \n",
    "The `__init__.py` files tell Python that the directories should be treated as packages. \n",
    "The `__init__.py` file can just be an empty file, but often it contains some some initialization code for the package."
   ]
  },
  {
   "cell_type": "markdown",
   "id": "87a6249e-4705-4dc0-81fe-510b73bfdaf4",
   "metadata": {},
   "source": [
    "Now let’s create our own package my_math for calculation. \n",
    "We put the file `__init__.py` to tell Python this is a package. We also put the files `vector.py` and `circle.py` for the vector\n",
    "and circle-related calculations. \n",
    "The structure of the files are as follows:\n",
    "\n",
    "my_math/ Top-level package\n",
    "\n",
    "    __init__.py      Initialize the my_math package\n",
    "    vector.py\n",
    "    circle.py\n",
    "    \n",
    "We can import the package `my_math` in the same way we have imported other third-party packages (found in the Block 10 files as a mtmath.zip file, which you will have to place in the working directory of this notebook and unzip.):"
   ]
  },
  {
   "cell_type": "code",
   "execution_count": 8,
   "id": "b0c0032b-654a-4cd1-9214-541712cc0015",
   "metadata": {},
   "outputs": [
    {
     "data": {
      "text/plain": [
       "28.26"
      ]
     },
     "execution_count": 8,
     "metadata": {},
     "output_type": "execute_result"
    }
   ],
   "source": [
    "import my_math.circle\n",
    "my_math.circle.area(3)"
   ]
  },
  {
   "cell_type": "markdown",
   "id": "13f3efe9-7d85-4d70-98b9-17e7d9c2eabf",
   "metadata": {},
   "source": [
    "Or we could only import the module `circle`:"
   ]
  },
  {
   "cell_type": "code",
   "execution_count": 9,
   "id": "58c11b44-6f47-432c-b859-17f2f77893a9",
   "metadata": {},
   "outputs": [
    {
     "data": {
      "text/plain": [
       "28.26"
      ]
     },
     "execution_count": 9,
     "metadata": {},
     "output_type": "execute_result"
    }
   ],
   "source": [
    "from my_math import circle\n",
    "circle.area(3)"
   ]
  },
  {
   "cell_type": "markdown",
   "id": "c44fa573-1ed0-4d2c-bdb1-c5837c40d2b9",
   "metadata": {},
   "source": [
    "## Sub-Packages"
   ]
  },
  {
   "cell_type": "markdown",
   "id": "4fca77b7-47f2-4df2-8bb6-df4ad72ce46c",
   "metadata": {},
   "source": [
    "A package often has a large number of files, and a hierarchical structure is often imposed by\n",
    "grouping the modules files into different folders and include a `__init__.py` file in the\n",
    "folders. Take a look of the source code of **NumPy** from [GitHub](https://github.com/numpy/numpy/tree/main/numpy) and you can see that modules\n",
    "are organized via folders. For example, the modules related to random sampling are under the\n",
    "sub-folder numpy/random and the modules related to polynomial calculation are under the\n",
    "sub-folder numpy/polynomial. For each sub-folder, there is another `__init__.py`. Each sub-folder therefore is a sub-package. For NumPy, `numpy.random` is a sub-package."
   ]
  },
  {
   "cell_type": "markdown",
   "id": "783565b1-ddae-4fda-8880-fd0fb8ebedb8",
   "metadata": {},
   "source": [
    "Let us examine another package `my_math_2`, which with the following structure:"
   ]
  },
  {
   "cell_type": "code",
   "execution_count": 10,
   "id": "15a974ce-2b1c-46ac-ab2b-d104408f898a",
   "metadata": {},
   "outputs": [
    {
     "data": {
      "text/plain": [
       "['untitled folder',\n",
       " 'matrix.py',\n",
       " 'shape',\n",
       " 'vector.py',\n",
       " '.DS_Store',\n",
       " 'circle.py',\n",
       " '__init__.py',\n",
       " '__pycache__',\n",
       " '__init__ copy.py',\n",
       " 'triangle.py',\n",
       " 'linear-algebra',\n",
       " 'geometry',\n",
       " 'linear_algebra']"
      ]
     },
     "execution_count": 10,
     "metadata": {},
     "output_type": "execute_result"
    }
   ],
   "source": [
    "import os \n",
    "os.listdir('./my_math_2')"
   ]
  },
  {
   "cell_type": "markdown",
   "id": "0956a31e-0904-468c-bff3-5eec27610d95",
   "metadata": {},
   "source": [
    "To use a sub-package from the package we can import it by:"
   ]
  },
  {
   "cell_type": "code",
   "execution_count": 11,
   "id": "8be31deb-b7df-4f3b-8729-009c24f7b2b3",
   "metadata": {
    "scrolled": true
   },
   "outputs": [
    {
     "data": {
      "text/plain": [
       "28.26"
      ]
     },
     "execution_count": 11,
     "metadata": {},
     "output_type": "execute_result"
    }
   ],
   "source": [
    "from my_math_2.geometry import circle\n",
    "circle.area(3)"
   ]
  },
  {
   "cell_type": "markdown",
   "id": "773135af-0a3f-4390-9c0b-c158dc6ddffc",
   "metadata": {},
   "source": [
    "The built-in function `dir()` is used to find out which names a module defines. It returns a sorted list of strings:"
   ]
  },
  {
   "cell_type": "code",
   "execution_count": 12,
   "id": "34635303-c269-4e26-ab8e-979c7a148687",
   "metadata": {},
   "outputs": [
    {
     "data": {
      "text/plain": [
       "['__builtins__',\n",
       " '__cached__',\n",
       " '__doc__',\n",
       " '__file__',\n",
       " '__loader__',\n",
       " '__name__',\n",
       " '__package__',\n",
       " '__path__',\n",
       " '__spec__',\n",
       " 'circle']"
      ]
     },
     "execution_count": 12,
     "metadata": {},
     "output_type": "execute_result"
    }
   ],
   "source": [
    "dir(my_math)"
   ]
  },
  {
   "cell_type": "markdown",
   "id": "a37aac6d-fa3e-4a16-84ea-40a9a8a0d900",
   "metadata": {},
   "source": [
    "Without arguments, dir() lists the names you have defined currently:"
   ]
  },
  {
   "cell_type": "code",
   "execution_count": 13,
   "id": "810fc836-90c8-4803-b43d-d6e55532b715",
   "metadata": {},
   "outputs": [
    {
     "data": {
      "text/plain": [
       "['In',\n",
       " 'Out',\n",
       " '_',\n",
       " '_10',\n",
       " '_11',\n",
       " '_12',\n",
       " '_3',\n",
       " '_4',\n",
       " '_5',\n",
       " '_8',\n",
       " '_9',\n",
       " '__',\n",
       " '___',\n",
       " '__builtin__',\n",
       " '__builtins__',\n",
       " '__doc__',\n",
       " '__loader__',\n",
       " '__name__',\n",
       " '__package__',\n",
       " '__spec__',\n",
       " '__vsc_ipynb_file__',\n",
       " '_dh',\n",
       " '_i',\n",
       " '_i1',\n",
       " '_i10',\n",
       " '_i11',\n",
       " '_i12',\n",
       " '_i13',\n",
       " '_i2',\n",
       " '_i3',\n",
       " '_i4',\n",
       " '_i5',\n",
       " '_i6',\n",
       " '_i7',\n",
       " '_i8',\n",
       " '_i9',\n",
       " '_ih',\n",
       " '_ii',\n",
       " '_iii',\n",
       " '_oh',\n",
       " 'area',\n",
       " 'circle',\n",
       " 'exit',\n",
       " 'get_ipython',\n",
       " 'my_math',\n",
       " 'open',\n",
       " 'os',\n",
       " 'pi',\n",
       " 'quit']"
      ]
     },
     "execution_count": 13,
     "metadata": {},
     "output_type": "execute_result"
    }
   ],
   "source": [
    "dir()"
   ]
  },
  {
   "cell_type": "markdown",
   "id": "93250546-b641-4936-a78b-bedd8372e4c3",
   "metadata": {},
   "source": [
    "## Python Package Repositories and Package Installer"
   ]
  },
  {
   "cell_type": "markdown",
   "id": "aecf3dbc-5768-425f-aab3-216b1a409fe4",
   "metadata": {},
   "source": [
    "The [*Python Package Index (PyPI)*](https://pypi.org/) is a repository of software for the Python programming\n",
    "language. "
   ]
  },
  {
   "cell_type": "markdown",
   "id": "89b373c3-6363-4bd4-8f74-b735eb2663d1",
   "metadata": {},
   "source": [
    "Python packages are typically installed from one of two package repositories:\n",
    "- The Python Package Index (PyPI)\n",
    "- Conda\n",
    "\n",
    "**PyPI** is the official third-party software repository for Python, and it is the default source for\n",
    "packages for `pip`, which is a popular package installer for Python.\n",
    "\n",
    "The name Conda is for both the general-purpose package management system and the package repository. \n",
    "Unlike PyPI, Conda manages software of *any language*."
   ]
  },
  {
   "cell_type": "markdown",
   "id": "6ef411a7-cfdc-4705-ae8e-972f4b34066f",
   "metadata": {},
   "source": [
    "## Useful Links\n",
    "\n",
    "- [Official Python tutorial on modules and packages](https://docs.python.org/3/tutorial/modules.html)\n",
    "- [Python tutorial on packaging Python objects](https://packaging.python.org/en/latest/tutorials/packaging-projects/)\n"
   ]
  },
  {
   "cell_type": "code",
   "execution_count": null,
   "id": "4b677ff5-10cc-42fd-bc91-40122a2cae44",
   "metadata": {},
   "outputs": [],
   "source": []
  }
 ],
 "metadata": {
  "kernelspec": {
   "display_name": "base",
   "language": "python",
   "name": "python3"
  },
  "language_info": {
   "codemirror_mode": {
    "name": "ipython",
    "version": 3
   },
   "file_extension": ".py",
   "mimetype": "text/x-python",
   "name": "python",
   "nbconvert_exporter": "python",
   "pygments_lexer": "ipython3",
   "version": "3.11.7"
  }
 },
 "nbformat": 4,
 "nbformat_minor": 5
}
