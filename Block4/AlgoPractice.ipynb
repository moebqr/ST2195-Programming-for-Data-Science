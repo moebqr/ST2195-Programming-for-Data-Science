{
 "cells": [
  {
   "cell_type": "code",
   "execution_count": 5,
   "metadata": {},
   "outputs": [
    {
     "name": "stdout",
     "output_type": "stream",
     "text": [
      "A\n",
      "Al\n",
      "Ali\n",
      "AliH\n",
      "AliHa\n",
      "AliHas\n",
      "AliHasa\n",
      "AliHasan\n",
      "AliHasanS\n",
      "AliHasanSa\n",
      "AliHasanSal\n",
      "AliHasanSalo\n",
      "AliHasanSaloo\n",
      "AliHasanSalook\n",
      "AliHasanSalooka\n",
      "AliHasanSalook\n",
      "AliHasanSaloo\n",
      "AliHasanSalo\n",
      "AliHasanSal\n",
      "AliHasanSa\n",
      "AliHasanS\n",
      "AliHasan\n",
      "AliHasa\n",
      "AliHas\n",
      "AliHa\n",
      "AliH\n",
      "Ali\n",
      "Al\n",
      "A\n",
      "\n"
     ]
    }
   ],
   "source": [
    "my_string = \"AliHasanSalooka\"\n",
    "x=0\n",
    "\n",
    "for i in my_string:\n",
    "    x += 1\n",
    "    print(my_string[0:x])\n",
    "    \n",
    "for j in my_string:\n",
    "    x -= 1\n",
    "    print(my_string[0:x])\n"
   ]
  }
 ],
 "metadata": {
  "kernelspec": {
   "display_name": "Python 3",
   "language": "python",
   "name": "python3"
  },
  "language_info": {
   "codemirror_mode": {
    "name": "ipython",
    "version": 3
   },
   "file_extension": ".py",
   "mimetype": "text/x-python",
   "name": "python",
   "nbconvert_exporter": "python",
   "pygments_lexer": "ipython3",
   "version": "3.9.6"
  }
 },
 "nbformat": 4,
 "nbformat_minor": 2
}
