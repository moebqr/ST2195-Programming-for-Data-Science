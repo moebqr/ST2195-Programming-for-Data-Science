{
 "cells": [
  {
   "cell_type": "markdown",
   "metadata": {},
   "source": [
    "Given an integer array nums, return true if any value appears at least twice in the array, and return false if every element is distinct."
   ]
  },
  {
   "cell_type": "code",
   "execution_count": 3,
   "metadata": {},
   "outputs": [
    {
     "name": "stdout",
     "output_type": "stream",
     "text": [
      "True\n"
     ]
    }
   ],
   "source": [
    "from typing import List\n",
    "\n",
    "# Time Complexity: O(n log n) due to sorting\n",
    "# Space Complexity: O(n) since sorting is done in-place\n",
    "# Approach:\n",
    "# 1. Sort the array so duplicates will be adjacent\n",
    "# 2. Compare each element with previous element\n",
    "# 3. Return true if any adjacent elements match\n",
    "# 4. Return false if no duplicates found\n",
    "# Alternative approaches:\n",
    "# - Using a hash set: O(n) time but O(n) space\n",
    "# - Using two nested loops: O(n^2) time but O(1) space\n",
    "\n",
    "def containsDuplicate(nums: List[int]) -> bool:\n",
    "    nums.sort()\n",
    "\n",
    "    for i in range(1, len(nums)):\n",
    "        if nums[i] == nums[i - 1]:\n",
    "            return True\n",
    "        \n",
    "    return False\n",
    "\n",
    "print(containsDuplicate([1,2,3,1]))"
   ]
  }
 ],
 "metadata": {
  "kernelspec": {
   "display_name": "Python 3",
   "language": "python",
   "name": "python3"
  },
  "language_info": {
   "codemirror_mode": {
    "name": "ipython",
    "version": 3
   },
   "file_extension": ".py",
   "mimetype": "text/x-python",
   "name": "python",
   "nbconvert_exporter": "python",
   "pygments_lexer": "ipython3",
   "version": "3.9.13"
  }
 },
 "nbformat": 4,
 "nbformat_minor": 2
}
