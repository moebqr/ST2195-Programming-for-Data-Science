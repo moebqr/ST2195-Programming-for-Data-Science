{
 "cells": [
  {
   "cell_type": "code",
   "execution_count": 1,
   "metadata": {},
   "outputs": [
    {
     "name": "stdout",
     "output_type": "stream",
     "text": [
      "Wow, that is an advancement for humanity! 10 going in a Single Year!\n"
     ]
    }
   ],
   "source": [
    "numOfPeople = int(input(\"How Many People will Leave for Mars in the Coming Years?\"))\n",
    "\n",
    "if numOfPeople >= 5:\n",
    "    print(f\"Wow, that is an advancement for humanity! {numOfPeople} going in a Single Year!\")\n",
    "elif numOfPeople < 5:\n",
    "    print(f\"That is great! {numOfPeople} going in a single year!\")"
   ]
  }
 ],
 "metadata": {
  "kernelspec": {
   "display_name": "Python 3",
   "language": "python",
   "name": "python3"
  },
  "language_info": {
   "codemirror_mode": {
    "name": "ipython",
    "version": 3
   },
   "file_extension": ".py",
   "mimetype": "text/x-python",
   "name": "python",
   "nbconvert_exporter": "python",
   "pygments_lexer": "ipython3",
   "version": "3.9.13"
  },
  "orig_nbformat": 4
 },
 "nbformat": 4,
 "nbformat_minor": 2
}
